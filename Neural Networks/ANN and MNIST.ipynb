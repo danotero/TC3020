{
 "cells": [
  {
   "cell_type": "markdown",
   "id": "b9a576b0",
   "metadata": {},
   "source": [
    "# ANN and the MNIST dataset\n",
    "\n",
    "Back in the day the **MNIST** dataset was used as a standard benchmark for image classification models. We will use this dataset to evaluate the performance of a Artificial Neural Network (ANN). By the way, this notebook is based on another notebook written by **Professor Benjamín Valdés Aguirre**. And now we import some libraries and modules."
   ]
  },
  {
   "cell_type": "code",
   "execution_count": 1,
   "id": "d180b888",
   "metadata": {},
   "outputs": [
    {
     "name": "stderr",
     "output_type": "stream",
     "text": [
      "Using TensorFlow backend.\n"
     ]
    }
   ],
   "source": [
    "import tensorflow as tf\n",
    "import pandas as pd\n",
    "import numpy as np\n",
    "import matplotlib.pyplot as plt\n",
    "import os\n",
    "os.environ['TF_CPP_MIN_LOG_LEVEL'] = '2'\n",
    "\n",
    "%matplotlib inline\n",
    "\n",
    "from keras.models import Sequential\n",
    "from keras.layers import Dense, Flatten"
   ]
  },
  {
   "cell_type": "markdown",
   "id": "6201693c",
   "metadata": {},
   "source": [
    "Conveniently enough, the MNIST dataset is included in the `tensorflow` library. Let us take advantage of that and import said dataset."
   ]
  },
  {
   "cell_type": "code",
   "execution_count": 2,
   "id": "e7869f34",
   "metadata": {},
   "outputs": [],
   "source": [
    "(X_train, y_train), (X_test, y_test) = tf.keras.datasets.mnist.load_data()"
   ]
  },
  {
   "cell_type": "markdown",
   "id": "857475fb",
   "metadata": {},
   "source": [
    "This dataset contains 60.000 images of handwritten numbers with their labels for training, plus a set of 10.000 images for testing. "
   ]
  },
  {
   "cell_type": "code",
   "execution_count": 3,
   "id": "bbe46046",
   "metadata": {},
   "outputs": [
    {
     "name": "stdout",
     "output_type": "stream",
     "text": [
      "Number of images in the training set is 60000.\n",
      "Number of images in the test set is 10000.\n"
     ]
    }
   ],
   "source": [
    "print(f'Number of images in the training set is {X_train.shape[0]}.')\n",
    "print(f'Number of images in the test set is {X_test.shape[0]}.')"
   ]
  },
  {
   "cell_type": "markdown",
   "id": "9e5a7820",
   "metadata": {},
   "source": [
    "For learning purposes, it is recommended to scale the values of the pixels of the images, which can be between 0 and 255. Let us do that in the following cell."
   ]
  },
  {
   "cell_type": "code",
   "execution_count": 4,
   "id": "74269f3f",
   "metadata": {},
   "outputs": [],
   "source": [
    "X_train = X_train / 255\n",
    "X_test = X_test / 255"
   ]
  },
  {
   "cell_type": "markdown",
   "id": "2ae98060",
   "metadata": {},
   "source": [
    "How do these images look like? Let us take a peek by selecting randomly four images from the training set. The following code does this by using the `matplotlib` library for visualization purposes."
   ]
  },
  {
   "cell_type": "code",
   "execution_count": 5,
   "id": "9c18a0ac",
   "metadata": {},
   "outputs": [
    {
     "data": {
      "image/png": "[encoded data removed]",
      "text/plain": [
       "<Figure size 576x432 with 4 Axes>"
      ]
     },
     "metadata": {
      "needs_background": "light"
     },
     "output_type": "display_data"
    }
   ],
   "source": [
    "num_train_images = X_train.shape[0]\n",
    "random_index = np.random.choice(num_train_images, 4)\n",
    "random_train_images = X_train[random_index]\n",
    "\n",
    "fig, axes = plt.subplots(2, 2, figsize=(8, 6))\n",
    "fig.subplots_adjust(hspace=0.4, wspace=-0.2)\n",
    "\n",
    "for n in range(4):\n",
    "    i, j = divmod(n, 2)\n",
    "    axes[i, j].imshow(random_train_images[n])\n",
    "    \n",
    "plt.show()"
   ]
  },
  {
   "cell_type": "markdown",
   "id": "53d9b851",
   "metadata": {},
   "source": [
    "Let us build our ANN using the `Sequential` method."
   ]
  },
  {
   "cell_type": "code",
   "execution_count": 6,
   "id": "3c75c47d",
   "metadata": {},
   "outputs": [],
   "source": [
    "model = Sequential([\n",
    "                    Flatten(input_shape=(28,28)),\n",
    "                    Dense(128, activation='relu'),\n",
    "                    Dense(128, activation='relu'),                \n",
    "                    Dense(10, activation='softmax')\n",
    "                    ])"
   ]
  },
  {
   "cell_type": "markdown",
   "id": "9b8e80e6",
   "metadata": {},
   "source": [
    "It is worthwhile to mention that the activation function of the output layer is the **softmax** function, which is used in **multinomial logistig regression**: if you want to know more about this, go to https://en.wikipedia.org/wiki/Softmax_function.\n",
    "\n",
    "We can get a brief description of our ANN by using the method `summary`. Try to infer how this method computes the number of trainable parameter per layer."
   ]
  },
  {
   "cell_type": "code",
   "execution_count": 7,
   "id": "f5a4fc98",
   "metadata": {},
   "outputs": [
    {
     "name": "stdout",
     "output_type": "stream",
     "text": [
      "Model: \"sequential_1\"\n",
      "_________________________________________________________________\n",
      "Layer (type)                 Output Shape              Param #   \n",
      "=================================================================\n",
      "flatten_1 (Flatten)          (None, 784)               0         \n",
      "_________________________________________________________________\n",
      "dense_1 (Dense)              (None, 128)               100480    \n",
      "_________________________________________________________________\n",
      "dense_2 (Dense)              (None, 128)               16512     \n",
      "_________________________________________________________________\n",
      "dense_3 (Dense)              (None, 10)                1290      \n",
      "=================================================================\n",
      "Total params: 118,282\n",
      "Trainable params: 118,282\n",
      "Non-trainable params: 0\n",
      "_________________________________________________________________\n"
     ]
    }
   ],
   "source": [
    "model.summary()"
   ]
  },
  {
   "cell_type": "markdown",
   "id": "21f35607",
   "metadata": {},
   "source": [
    "After telling `tensorflow` how our CNN should be, we need to `compile` the model. In this step we must specify the type of gradient descent method we want to use (`optimizer`), the cost function to be minimized (`loss`), and the metric we want to use to evaluate our model (`metrics`). Notice that since our labels are integers, we must use the **sparse categorical crossentropy** as our cost function."
   ]
  },
  {
   "cell_type": "code",
   "execution_count": 8,
   "id": "f4ab1ecb",
   "metadata": {},
   "outputs": [],
   "source": [
    "model.compile(optimizer= \"adam\", loss = \"sparse_categorical_crossentropy\", metrics=['accuracy'])"
   ]
  },
  {
   "cell_type": "markdown",
   "id": "c9648f8e",
   "metadata": {},
   "source": [
    "We are ready to train the model using the `fit` method. "
   ]
  },
  {
   "cell_type": "code",
   "execution_count": 9,
   "id": "f18de68c",
   "metadata": {},
   "outputs": [
    {
     "name": "stdout",
     "output_type": "stream",
     "text": [
      "Epoch 1/5\n",
      "60000/60000 [==============================] - 14s 229us/step - loss: 0.2308 - accuracy: 0.9331\n",
      "Epoch 2/5\n",
      "60000/60000 [==============================] - 30s 499us/step - loss: 0.0963 - accuracy: 0.9706\n",
      "Epoch 3/5\n",
      "60000/60000 [==============================] - 19s 309us/step - loss: 0.0679 - accuracy: 0.9791\n",
      "Epoch 4/5\n",
      "60000/60000 [==============================] - 17s 279us/step - loss: 0.0488 - accuracy: 0.9847\n",
      "Epoch 5/5\n",
      "60000/60000 [==============================] - 17s 291us/step - loss: 0.0402 - accuracy: 0.9871\n"
     ]
    }
   ],
   "source": [
    "history = model.fit(X_train, y_train, epochs = 5)"
   ]
  },
  {
   "cell_type": "markdown",
   "id": "15a27d34",
   "metadata": {},
   "source": [
    "Notice that the training ran for five epochs and returned the training history, which be used for plotting the learning curves."
   ]
  },
  {
   "cell_type": "code",
   "execution_count": 10,
   "id": "0d4e27ac",
   "metadata": {},
   "outputs": [],
   "source": [
    "df_history = pd.DataFrame(history.history)"
   ]
  },
  {
   "cell_type": "code",
   "execution_count": 11,
   "id": "56d0579e",
   "metadata": {},
   "outputs": [
    {
     "data": {
      "text/plain": [
       "[Text(0.5, 0, 'Epochs'), Text(0, 0.5, 'Accuracy')]"
      ]
     },
     "execution_count": 11,
     "metadata": {},
     "output_type": "execute_result"
    },
    {
     "data": {
      "image/png": "[encoded data removed]",
      "text/plain": [
       "<Figure size 432x288 with 1 Axes>"
      ]
     },
     "metadata": {
      "needs_background": "light"
     },
     "output_type": "display_data"
    }
   ],
   "source": [
    "acc_plot = df_history.plot(y=\"accuracy\", title=\"Accuracy vs Epochs\", legend=False)\n",
    "acc_plot.set(xlabel=\"Epochs\", ylabel=\"Accuracy\")"
   ]
  },
  {
   "cell_type": "code",
   "execution_count": 12,
   "id": "96668336",
   "metadata": {},
   "outputs": [
    {
     "data": {
      "text/plain": [
       "[Text(0.5, 0, 'Epochs'), Text(0, 0.5, 'Loss')]"
      ]
     },
     "execution_count": 12,
     "metadata": {},
     "output_type": "execute_result"
    },
    {
     "data": {
      "image/png": "[encoded data removed]",
      "text/plain": [
       "<Figure size 432x288 with 1 Axes>"
      ]
     },
     "metadata": {
      "needs_background": "light"
     },
     "output_type": "display_data"
    }
   ],
   "source": [
    "acc_plot = df_history.plot(y=\"loss\", title = \"Loss vs Epochs\",legend=False)\n",
    "acc_plot.set(xlabel=\"Epochs\", ylabel=\"Loss\")"
   ]
  },
  {
   "cell_type": "markdown",
   "id": "df0be4d9",
   "metadata": {},
   "source": [
    "With the `evaluate` method we can see how well our method performs on the test set, which is data that was not included in the training phase."
   ]
  },
  {
   "cell_type": "code",
   "execution_count": 13,
   "id": "4336f17d",
   "metadata": {},
   "outputs": [
    {
     "name": "stdout",
     "output_type": "stream",
     "text": [
      "10000/10000 [==============================] - 1s 97us/step\n",
      "Test loss: 0.0917275620690314\n",
      "Test accuracy: 0.973800003528595\n"
     ]
    }
   ],
   "source": [
    "test_loss, test_accuracy = model.evaluate(X_test, y_test)\n",
    "print(f\"Test loss: {test_loss}\")\n",
    "print(f\"Test accuracy: {test_accuracy}\")"
   ]
  },
  {
   "cell_type": "markdown",
   "id": "39e11a4a",
   "metadata": {},
   "source": [
    "As you can see, the ANN did pretty well. Let us now see how the trained model does on four handwritten digits that are chosen randomly from the test set."
   ]
  },
  {
   "cell_type": "code",
   "execution_count": 14,
   "id": "12f05f5e",
   "metadata": {},
   "outputs": [
    {
     "data": {
      "image/png": "[encoded data removed]",
      "text/plain": [
       "<Figure size 576x432 with 4 Axes>"
      ]
     },
     "metadata": {
      "needs_background": "light"
     },
     "output_type": "display_data"
    }
   ],
   "source": [
    "num_test_images = X_test.shape[0]\n",
    "random_index = np.random.choice(num_test_images, 4)\n",
    "random_test_images = X_test[random_index]\n",
    "predictions = model.predict(random_test_images)\n",
    "\n",
    "fig, axes = plt.subplots(2, 2, figsize=(8, 6))\n",
    "fig.subplots_adjust(hspace=0.4, wspace=-0.2)\n",
    "\n",
    "for n, prediction in enumerate(predictions):\n",
    "    i, j = divmod(n, 2)\n",
    "    axes[i, j].imshow(random_test_images[n])\n",
    "    axes[i, j].text(8, -1.5, f'Prediction: {np.argmax(prediction)}')\n",
    "    \n",
    "plt.show()"
   ]
  },
  {
   "cell_type": "markdown",
   "id": "ca12acf2",
   "metadata": {},
   "source": [
    "## References\n",
    "\n",
    "[1] https://www.kaggle.com/code/kannannadars/ann-using-mnist-dataset"
   ]
  }
 ],
 "metadata": {
  "hide_input": false,
  "kernelspec": {
   "display_name": "Python 3 (ipykernel)",
   "language": "python",
   "name": "python3"
  },
  "language_info": {
   "codemirror_mode": {
    "name": "ipython",
    "version": 3
   },
   "file_extension": ".py",
   "mimetype": "text/x-python",
   "name": "python",
   "nbconvert_exporter": "python",
   "pygments_lexer": "ipython3",
   "version": "3.7.4"
  }
 },
 "nbformat": 4,
 "nbformat_minor": 5
}
